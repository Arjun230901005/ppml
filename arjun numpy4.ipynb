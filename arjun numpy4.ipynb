{
 "cells": [
  {
   "cell_type": "code",
   "execution_count": 1,
   "id": "272ac637",
   "metadata": {},
   "outputs": [
    {
     "name": "stdout",
     "output_type": "stream",
     "text": [
      "[20 40 50 70 10]\n",
      "[6 2 9 7 1]\n",
      "[14 38 41 63  9]\n",
      "[26 42 59 77 11]\n",
      "[120  80 450 490  10]\n",
      "[ 3.33333333 20.          5.55555556 10.         10.        ]\n",
      "1150\n",
      "Result: [ 60 120 150 210  30]\n"
     ]
    }
   ],
   "source": [
    "import numpy as np\n",
    "arr1=[20,40,50,70,10]\n",
    "arr2=[6,2,9,7,1]\n",
    "a=np.array(arr1)\n",
    "b=np.array(arr2)\n",
    "print(a)\n",
    "print(b)\n",
    "print(a-b)\n",
    "print(a+b)\n",
    "print(a*b)\n",
    "print(a/b)\n",
    "print(a.dot(b))\n",
    "sclr=3\n",
    "print(\"Result:\",a*sclr)"
   ]
  },
  {
   "cell_type": "code",
   "execution_count": 2,
   "id": "e35daafd",
   "metadata": {},
   "outputs": [
    {
     "ename": "SyntaxError",
     "evalue": "invalid syntax (630161812.py, line 5)",
     "output_type": "error",
     "traceback": [
      "\u001b[0;36m  Cell \u001b[0;32mIn[2], line 5\u001b[0;36m\u001b[0m\n\u001b[0;31m    Element at (0,0):10%3\u001b[0m\n\u001b[0m            ^\u001b[0m\n\u001b[0;31mSyntaxError\u001b[0m\u001b[0;31m:\u001b[0m invalid syntax\n"
     ]
    }
   ],
   "source": [
    "import nump as np\n",
    "a=np.array([[10,20],[30,40]])\n",
    "b=np.array(([3,7],[5,9]))\n",
    "print( a%b)\n",
    "Element at (0,0):10%3\n",
    "Element at (0,1)"
   ]
  },
  {
   "cell_type": "code",
   "execution_count": 7,
   "id": "784a9316",
   "metadata": {},
   "outputs": [
    {
     "name": "stdout",
     "output_type": "stream",
     "text": [
      "array1: [10, 7, 2]\n",
      "array2: [6, 5, 3]\n",
      "result: [4 2 5]\n"
     ]
    }
   ],
   "source": [
    "import numpy as np\n",
    "def my_func(x,y):\n",
    "    if x>y:\n",
    "        return x-y\n",
    "    else:\n",
    "        return x+y\n",
    "arr=[10,7,2]\n",
    "arr2=[6,5,3]\n",
    "vect_func=np.vectorize(my_func)\n",
    "print('array1:',arr)\n",
    "print('array2:',arr2)\n",
    "print('result:',vect_func(arr,arr2))\n"
   ]
  },
  {
   "cell_type": "code",
   "execution_count": null,
   "id": "122595a6",
   "metadata": {},
   "outputs": [],
   "source": []
  },
  {
   "cell_type": "code",
   "execution_count": null,
   "id": "8a744a9c",
   "metadata": {},
   "outputs": [],
   "source": []
  }
 ],
 "metadata": {
  "kernelspec": {
   "display_name": "Python 3 (ipykernel)",
   "language": "python",
   "name": "python3"
  },
  "language_info": {
   "codemirror_mode": {
    "name": "ipython",
    "version": 3
   },
   "file_extension": ".py",
   "mimetype": "text/x-python",
   "name": "python",
   "nbconvert_exporter": "python",
   "pygments_lexer": "ipython3",
   "version": "3.11.5"
  }
 },
 "nbformat": 4,
 "nbformat_minor": 5
}
