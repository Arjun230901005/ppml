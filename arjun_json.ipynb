{
 "cells": [
  {
   "cell_type": "code",
   "execution_count": 1,
   "id": "ef5f3186",
   "metadata": {},
   "outputs": [],
   "source": [
    "f=open(r\"C:\\Users\\REC\\Desktop\\arjun_word.txt\",\"w\")\n",
    "f.write(\"Wake up early\\n\")\n",
    "f.write(\"Read daily\\n\")\n",
    "f.write(\"Pray to god\\n\")\n",
    "f.close()"
   ]
  },
  {
   "cell_type": "code",
   "execution_count": 2,
   "id": "94ed3778",
   "metadata": {},
   "outputs": [
    {
     "name": "stdout",
     "output_type": "stream",
     "text": [
      "Wake up early\n",
      "\n",
      "Read daily\n",
      "\n",
      "Pray to god\n",
      "\n"
     ]
    }
   ],
   "source": [
    "a=open(r\"C:\\Users\\REC\\Desktop\\arjun_word.txt\",\"r\")\n",
    "print(a.readline())\n",
    "print(a.readline())\n",
    "print(a.readline())\n",
    "a.close()"
   ]
  },
  {
   "cell_type": "code",
   "execution_count": 3,
   "id": "19ffcda0",
   "metadata": {},
   "outputs": [
    {
     "name": "stdout",
     "output_type": "stream",
     "text": [
      "Wake up early\n",
      "Read daily\n",
      "Pray to god\n",
      "Help others\n",
      "Be smart\n",
      "\n"
     ]
    }
   ],
   "source": [
    "b=open(r\"C:\\Users\\REC\\Desktop\\arjun_word.txt\",\"a\")\n",
    "b.write(\"Help others\\n\")\n",
    "b.write(\"Be smart\\n\")\n",
    "b.close()\n",
    "c=open(r\"C:\\Users\\REC\\Desktop\\arjun_word.txt\",\"r\")\n",
    "print(c.read())\n",
    "c.close()\n"
   ]
  },
  {
   "cell_type": "code",
   "execution_count": 4,
   "id": "046be9ad",
   "metadata": {},
   "outputs": [
    {
     "name": "stdout",
     "output_type": "stream",
     "text": [
      "['Wake up early\\n', 'Read daily\\n', 'Pray to god\\n', 'Help others\\n', 'Be smart\\n']\n"
     ]
    }
   ],
   "source": [
    "with open(r\"C:\\Users\\REC\\Desktop\\arjun_word.txt\",\"r\") as file:\n",
    "    lines=file.readlines()\n",
    "    print(lines)"
   ]
  },
  {
   "cell_type": "code",
   "execution_count": 5,
   "id": "3c4fa6ec",
   "metadata": {},
   "outputs": [
    {
     "name": "stdout",
     "output_type": "stream",
     "text": [
      "London\n"
     ]
    }
   ],
   "source": [
    "import json\n",
    "x='{\"Name\":\"sai\",\"Age\":20,\"City\":\"London\"}'\n",
    "y=json.loads(x)\n",
    "print(y[\"City\"])\n"
   ]
  },
  {
   "cell_type": "code",
   "execution_count": 8,
   "id": "2f0d5da2",
   "metadata": {},
   "outputs": [
    {
     "name": "stdout",
     "output_type": "stream",
     "text": [
      "\"{\\\"Name\\\":\\\"sai\\\",\\\"Age\\\":20,\\\"City\\\":\\\"London\\\"}\"\n"
     ]
    }
   ],
   "source": [
    "z=json.dumps(x)\n",
    "print(z)"
   ]
  },
  {
   "cell_type": "code",
   "execution_count": null,
   "id": "fbef7c55",
   "metadata": {},
   "outputs": [],
   "source": []
  }
 ],
 "metadata": {
  "kernelspec": {
   "display_name": "Python 3 (ipykernel)",
   "language": "python",
   "name": "python3"
  },
  "language_info": {
   "codemirror_mode": {
    "name": "ipython",
    "version": 3
   },
   "file_extension": ".py",
   "mimetype": "text/x-python",
   "name": "python",
   "nbconvert_exporter": "python",
   "pygments_lexer": "ipython3",
   "version": "3.11.3"
  }
 },
 "nbformat": 4,
 "nbformat_minor": 5
}
