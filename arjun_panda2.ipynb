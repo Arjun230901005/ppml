{
 "cells": [
  {
   "cell_type": "code",
   "execution_count": 3,
   "id": "3c30b03f",
   "metadata": {},
   "outputs": [
    {
     "name": "stdout",
     "output_type": "stream",
     "text": [
      "DataFrame.apply Function:\n",
      "\n",
      "\n",
      "Orignal DataFrame:\n",
      "    S  R\n",
      "0  3  9\n",
      "1  3  9\n",
      "2  3  9\n",
      "3  3  9\n",
      "\n",
      "Square root of DataFrame:\n",
      "           S    R\n",
      "0  1.732051  3.0\n",
      "1  1.732051  3.0\n",
      "2  1.732051  3.0\n",
      "3  1.732051  3.0\n",
      "\n",
      "Sum of each Column:\n",
      " S    12\n",
      "R    36\n",
      "dtype: int64\n",
      "\n",
      "Sum of each row:\n",
      " 0    12\n",
      "1    12\n",
      "2    12\n",
      "3    12\n",
      "dtype: int64\n"
     ]
    }
   ],
   "source": [
    "import pandas as pd\n",
    "import numpy as np\n",
    "print(\"DataFrame.apply Function:\\n\")\n",
    "info=pd.DataFrame([[3,9]]*4,columns=['S','R'])\n",
    "print(\"\\nOrignal DataFrame:\\n\",info)\n",
    "print(\"\\nSquare root of DataFrame:\\n\",info.apply(np.sqrt))\n",
    "print(\"\\nSum of each Column:\\n\",info.apply(np.sum,axis=0))\n",
    "print(\"\\nSum of each row:\\n\", info.apply(np.sum,axis=1))"
   ]
  },
  {
   "cell_type": "code",
   "execution_count": 4,
   "id": "7d3d134a",
   "metadata": {},
   "outputs": [
    {
     "name": "stdout",
     "output_type": "stream",
     "text": [
      "Original DataFrame:\n",
      "    0  1  2\n",
      "0  2  4  6\n",
      "1  1  3  5\n",
      "2  5  8  7\n",
      "\n",
      "Minimum & Maximum of each column:\n",
      "\n",
      "     0  1  2\n",
      "min  1  3  5\n",
      "max  5  8  7\n"
     ]
    }
   ],
   "source": [
    "info=pd.DataFrame([[2,4,6],[1,3,5],[5,8,7]])\n",
    "col=['X','Y','Z']\n",
    "print(\"Original DataFrame:\\n\",info)\n",
    "print(\"\\nMinimum & Maximum of each column:\\n\")\n",
    "print(info.agg(['min','max']))"
   ]
  },
  {
   "cell_type": "code",
   "execution_count": 7,
   "id": "df48e876",
   "metadata": {},
   "outputs": [
    {
     "name": "stdout",
     "output_type": "stream",
     "text": [
      "   0  1  2\n",
      "0  2  4  6\n",
      "1  1  3  5\n",
      "2  5  8  7\n",
      "     0  1  2\n",
      "min  1  3  5\n",
      "max  5  8  7\n",
      "     0   1\n",
      "0  sai  88\n",
      "1  poo  70\n"
     ]
    }
   ],
   "source": [
    "import pandas as pd\n",
    "import numpy as np\n",
    "info=pd.DataFrame([[2,4,6],[1,3,5],[5,8,7]])\n",
    "print(info)\n",
    "print(info.agg(['min','max']))\n",
    "d2=pd.DataFrame([['sai',88],['poo',70]])\n",
    "column=['emp','id']\n",
    "print (d2)"
   ]
  },
  {
   "cell_type": "code",
   "execution_count": 9,
   "id": "c756cb34",
   "metadata": {},
   "outputs": [
    {
     "name": "stdout",
     "output_type": "stream",
     "text": [
      "     0   1  age\n",
      "0  sai  88   20\n",
      "1  poo  70   18\n",
      "     0   1  age     sex\n",
      "0  sai  88   20    male\n",
      "1  poo  70   18  female\n"
     ]
    }
   ],
   "source": [
    "#adding new column\n",
    "d2['age']=[20,18]\n",
    "print(d2)\n",
    "d=d2.assign(sex=['male','female'])\n",
    "print(d)"
   ]
  },
  {
   "cell_type": "code",
   "execution_count": 14,
   "id": "bf8db727",
   "metadata": {},
   "outputs": [
    {
     "name": "stdout",
     "output_type": "stream",
     "text": [
      "       col3      col4\n",
      "3 -2.090014  0.508408\n",
      "2 -1.274850 -1.782700\n",
      "0  0.938266 -0.349794\n",
      "4  0.096743  0.444911\n",
      "1  0.828114 -0.391507\n",
      "       col3      col4\n",
      "3 -2.090014  0.508408\n",
      "2 -1.274850 -1.782700\n",
      "4  0.096743  0.444911\n",
      "1  0.828114 -0.391507\n",
      "0  0.938266 -0.349794\n",
      "       col3      col4\n",
      "0  0.938266 -0.349794\n",
      "1  0.828114 -0.391507\n",
      "2 -1.274850 -1.782700\n",
      "3 -2.090014  0.508408\n",
      "4  0.096743  0.444911\n"
     ]
    }
   ],
   "source": [
    "#sorting\n",
    "info=pd.DataFrame(np.random.randn(5,2),index=[3,2,0,4,1],columns=['col3','col4'])\n",
    "print(info)\n",
    "info2=info.sort_index()\n",
    "info3=info.sort_values(by='col3')\n",
    "print(info3)\n",
    "print(info2)\n"
   ]
  },
  {
   "cell_type": "code",
   "execution_count": 18,
   "id": "dd27bcae",
   "metadata": {},
   "outputs": [
    {
     "name": "stdout",
     "output_type": "stream",
     "text": [
      "   id name_x sub_x   name_y sub_y\n",
      "0   1    sai  sub1  aravind  sub4\n",
      "1   2   bala  sub2   harish  sub5\n",
      "2   3    kar  sub3  kailash  sub6\n"
     ]
    }
   ],
   "source": [
    "left=pd.DataFrame({'id':[1,2,3],'name':['sai','bala','kar'],'sub':['sub1','sub2','sub3']})\n",
    "right=pd.DataFrame({'id':[1,2,3],'name':['aravind','harish','kailash'],'sub':['sub4','sub5','sub6']})\n",
    "print(pd.merge(left,right,on='id'))"
   ]
  },
  {
   "cell_type": "code",
   "execution_count": null,
   "id": "a3c6e975",
   "metadata": {},
   "outputs": [],
   "source": []
  }
 ],
 "metadata": {
  "kernelspec": {
   "display_name": "Python 3 (ipykernel)",
   "language": "python",
   "name": "python3"
  },
  "language_info": {
   "codemirror_mode": {
    "name": "ipython",
    "version": 3
   },
   "file_extension": ".py",
   "mimetype": "text/x-python",
   "name": "python",
   "nbconvert_exporter": "python",
   "pygments_lexer": "ipython3",
   "version": "3.11.5"
  }
 },
 "nbformat": 4,
 "nbformat_minor": 5
}
