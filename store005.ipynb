{
 "cells": [
  {
   "cell_type": "code",
   "execution_count": 6,
   "id": "85acbf25",
   "metadata": {},
   "outputs": [
    {
     "name": "stdout",
     "output_type": "stream",
     "text": [
      "       a  b  c\n",
      "one    1  2  3\n",
      "two    4  5  6\n",
      "three  7  8  9\n"
     ]
    }
   ],
   "source": [
    "#store\n",
    "import pandas as pd\n",
    "df=pd.DataFrame([[1,2,3],[4,5,6],[7,8,9]],index=['one','two','three'],columns=['a','b','c'])\n",
    "print(df)"
   ]
  },
  {
   "cell_type": "code",
   "execution_count": 7,
   "id": "34cb0d97",
   "metadata": {},
   "outputs": [
    {
     "ename": "SyntaxError",
     "evalue": "unterminated string literal (detected at line 1) (3300604280.py, line 1)",
     "output_type": "error",
     "traceback": [
      "\u001b[1;36m  Cell \u001b[1;32mIn[7], line 1\u001b[1;36m\u001b[0m\n\u001b[1;33m    df.to_excel(\"D:\\\\xl1.xlsx)\u001b[0m\n\u001b[1;37m                ^\u001b[0m\n\u001b[1;31mSyntaxError\u001b[0m\u001b[1;31m:\u001b[0m unterminated string literal (detected at line 1)\n"
     ]
    }
   ],
   "source": [
    "df.to_excel(\"D:\\\\xl1.xlsx)\n",
    "df.to_excel(\"D:\\\\xl2.xlsx)"
   ]
  },
  {
   "cell_type": "code",
   "execution_count": 8,
   "id": "ad1ea5d0",
   "metadata": {},
   "outputs": [],
   "source": [
    "df=pd.DataFrame([[10,20,30],[40,50,60],[70,80,90]],index=['four','five','six'] ,columns=['x','y','z'])\n",
    "df.to_excel(\"D:\\\\xl1.xlsx\",sheet_name=\"Marks\")"
   ]
  },
  {
   "cell_type": "code",
   "execution_count": 9,
   "id": "236565b9",
   "metadata": {},
   "outputs": [],
   "source": [
    "#merge\n",
    "x=pd.read_excel(\"D:\\\\xl1.xlsx\")\n",
    "y=pd.read_excel(\"D:\\\\xl2.xlsx\")\n",
    "z=pd.concat([x,y])\n",
    "z.to_excel(\"D:\\\\sri1.xlsx\")\n",
    "\n"
   ]
  },
  {
   "cell_type": "code",
   "execution_count": 10,
   "id": "63ec8326",
   "metadata": {},
   "outputs": [
    {
     "name": "stdout",
     "output_type": "stream",
     "text": [
      "  Unnamed: 0     x     y     z    a    b    c\n",
      "0       four  10.0  20.0  30.0  NaN  NaN  NaN\n",
      "1       five  40.0  50.0  60.0  NaN  NaN  NaN\n",
      "2        six  70.0  80.0  90.0  NaN  NaN  NaN\n",
      "0        one   NaN   NaN   NaN  1.0  2.0  3.0\n",
      "1        two   NaN   NaN   NaN  4.0  5.0  6.0\n",
      "2      three   NaN   NaN   NaN  7.0  8.0  9.0\n",
      "  Unnamed: 0   x   y   z\n",
      "0       four  10  20  30\n",
      "1       five  40  50  60\n",
      "2        six  70  80  90\n",
      "['Unnamed: 0', 'x', 'y', 'z']\n",
      "3\n"
     ]
    }
   ],
   "source": [
    "df=z.sort_values(['x'])\n",
    "print(df)\n",
    "df.to_excel(\"D:\\sri1.xlsx\")\n",
    "df=pd.read_excel(r\"D:\\xl1.xlsx\")\n",
    "print(df)\n",
    "print(list(df))\n",
    "print(format(len(df)))"
   ]
  },
  {
   "cell_type": "code",
   "execution_count": null,
   "id": "402c3dfa",
   "metadata": {},
   "outputs": [],
   "source": []
  }
 ],
 "metadata": {
  "kernelspec": {
   "display_name": "Python 3 (ipykernel)",
   "language": "python",
   "name": "python3"
  },
  "language_info": {
   "codemirror_mode": {
    "name": "ipython",
    "version": 3
   },
   "file_extension": ".py",
   "mimetype": "text/x-python",
   "name": "python",
   "nbconvert_exporter": "python",
   "pygments_lexer": "ipython3",
   "version": "3.11.3"
  }
 },
 "nbformat": 4,
 "nbformat_minor": 5
}
