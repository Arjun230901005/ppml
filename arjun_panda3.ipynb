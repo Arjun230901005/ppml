{
 "cells": [
  {
   "cell_type": "code",
   "execution_count": 8,
   "id": "8af828df",
   "metadata": {},
   "outputs": [
    {
     "name": "stdout",
     "output_type": "stream",
     "text": [
      "0    s\n",
      "1    a\n",
      "2    i\n",
      "3    s\n",
      "4    r\n",
      "5    i\n",
      "dtype: object\n",
      "['s' 'a' 'i' 's' 'r' 'i']\n",
      "(6,)\n",
      "1\n",
      "6\n",
      "RangeIndex(start=0, stop=6, step=1)\n"
     ]
    }
   ],
   "source": [
    "#panda series\n",
    "import pandas as pd\n",
    "import numpy as np\n",
    "arr=np.array(['s','a','i','s','r','i'])\n",
    "a=pd.Series(arr)\n",
    "print(a)\n",
    "print(a.values)\n",
    "print(a.shape)\n",
    "print(a.ndim)\n",
    "print(a.size)\n",
    "print(a.index)"
   ]
  },
  {
   "cell_type": "code",
   "execution_count": null,
   "id": "ec0821d9",
   "metadata": {},
   "outputs": [],
   "source": []
  }
 ],
 "metadata": {
  "kernelspec": {
   "display_name": "Python 3 (ipykernel)",
   "language": "python",
   "name": "python3"
  },
  "language_info": {
   "codemirror_mode": {
    "name": "ipython",
    "version": 3
   },
   "file_extension": ".py",
   "mimetype": "text/x-python",
   "name": "python",
   "nbconvert_exporter": "python",
   "pygments_lexer": "ipython3",
   "version": "3.11.5"
  }
 },
 "nbformat": 4,
 "nbformat_minor": 5
}
